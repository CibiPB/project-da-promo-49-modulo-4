{
 "cells": [
  {
   "cell_type": "code",
   "execution_count": 9,
   "id": "cca86de2",
   "metadata": {},
   "outputs": [],
   "source": [
    "\n",
    "import pandas as pd\n",
    "import numpy as np"
   ]
  },
  {
   "cell_type": "markdown",
   "id": "fa9b7ad1",
   "metadata": {},
   "source": [
    "### EDA PROFILE:"
   ]
  },
  {
   "cell_type": "code",
   "execution_count": 11,
   "id": "f93b55fe",
   "metadata": {},
   "outputs": [],
   "source": [
    "profile = pd.read_csv('../Clean Files/Profile/0V-profile_killers.csv')"
   ]
  },
  {
   "cell_type": "code",
   "execution_count": 12,
   "id": "e9b13965",
   "metadata": {},
   "outputs": [
    {
     "name": "stdout",
     "output_type": "stream",
     "text": [
      "<class 'pandas.core.frame.DataFrame'>\n",
      "RangeIndex: 711 entries, 0 to 710\n",
      "Data columns (total 10 columns):\n",
      " #   Column            Non-Null Count  Dtype  \n",
      "---  ------            --------------  -----  \n",
      " 0   Name              711 non-null    object \n",
      " 1   Nicknames         469 non-null    object \n",
      " 2   Age               243 non-null    float64\n",
      " 3   Born Date         444 non-null    object \n",
      " 4   Born Location     420 non-null    object \n",
      " 5   Died Date         308 non-null    object \n",
      " 6   Died Location     227 non-null    object \n",
      " 7   Conviction        502 non-null    object \n",
      " 8   Criminal Penalty  577 non-null    object \n",
      " 9   Date Apprehended  543 non-null    object \n",
      "dtypes: float64(1), object(9)\n",
      "memory usage: 55.7+ KB\n"
     ]
    }
   ],
   "source": [
    "#IDENTIFYING NULLS AND DATA TYPE\n",
    "\n",
    "profile.info()"
   ]
  },
  {
   "cell_type": "code",
   "execution_count": 13,
   "id": "ec5f2b31",
   "metadata": {},
   "outputs": [],
   "source": [
    "# SPLITING BORN LOCATION, TO CREATE NEW COLUMN WITH COUNTRY\n",
    "\n",
    "\n",
    "profile['born country'] = profile['Born Location'].apply(\n",
    "    lambda x: x.split(',')[-1].strip() if pd.notnull(x) else None)"
   ]
  },
  {
   "cell_type": "code",
   "execution_count": 14,
   "id": "a769724f",
   "metadata": {},
   "outputs": [],
   "source": [
    "# SAVING CLEAN FILE\n",
    "profile.to_csv('../Clean Files/Profile/1V-profile_killers.csv', index=False)"
   ]
  },
  {
   "cell_type": "markdown",
   "id": "24eb214f",
   "metadata": {},
   "source": [
    "### EDA VICTIMS:\n"
   ]
  },
  {
   "cell_type": "code",
   "execution_count": 15,
   "id": "44b27a5e",
   "metadata": {},
   "outputs": [],
   "source": [
    "victims = pd.read_csv('../Clean Files/Victims/0V-serial_killers_by_victims.csv')"
   ]
  },
  {
   "cell_type": "code",
   "execution_count": null,
   "id": "011e9fb6",
   "metadata": {},
   "outputs": [
    {
     "data": {
      "text/plain": [
       "['Colombia, Ecuador, Venezuela',\n",
       " 'Colombia, Peru, Ecuador',\n",
       " 'Pakistan',\n",
       " 'Russia',\n",
       " 'Colombia, Ecuador, Brazil',\n",
       " 'Brazil',\n",
       " 'India',\n",
       " 'Iran',\n",
       " 'China',\n",
       " 'Afghanistan',\n",
       " 'United States',\n",
       " 'Belgian Congo, Tanganyika',\n",
       " 'Soviet Union',\n",
       " 'Soviet Union, Ukraine',\n",
       " 'Indonesia',\n",
       " 'South Africa',\n",
       " 'Morocco',\n",
       " 'Kingdom of Romania, Yugoslavia, Hungary',\n",
       " 'Mexico',\n",
       " 'Ottoman Empire, Iraq, Iran',\n",
       " 'Egypt',\n",
       " 'Germany',\n",
       " 'Colombia',\n",
       " 'Zambia',\n",
       " 'Swaziland',\n",
       " 'Greece',\n",
       " 'Canada',\n",
       " 'United Kingdom',\n",
       " 'Austria-Hungary',\n",
       " 'France, Germany, Switzerland',\n",
       " 'Ecuador',\n",
       " 'United States, Canada',\n",
       " 'Soviet Union, Russia, Tajikistan',\n",
       " 'Romania',\n",
       " 'South Korea',\n",
       " 'Costa Rica',\n",
       " 'Soviet Union, Russia',\n",
       " 'Latvia',\n",
       " 'Turkey',\n",
       " 'France',\n",
       " 'Sri Lanka',\n",
       " 'Peru',\n",
       " 'Ukraine',\n",
       " 'Italy',\n",
       " 'France, Belgium',\n",
       " 'Spain',\n",
       " 'United States, Mexico',\n",
       " 'Argentina',\n",
       " 'Poland',\n",
       " 'Chile',\n",
       " 'West Germany',\n",
       " 'Tunisia',\n",
       " 'Venezuela',\n",
       " 'Rwanda',\n",
       " 'Thailand, Nepal, India, Malaysia',\n",
       " 'Yemen',\n",
       " 'Japan',\n",
       " 'Austria, United States, Czechoslovakia',\n",
       " 'Belgium',\n",
       " 'Bangladesh',\n",
       " 'Czechoslovakia',\n",
       " 'Soviet Union, Russia, Ukraine',\n",
       " 'Kenya',\n",
       " 'German Empire, Germany',\n",
       " 'Denmark',\n",
       " 'Ecuador, Spain',\n",
       " 'Czechoslovakia, Germany, Netherlands',\n",
       " 'Sweden',\n",
       " 'China, Japan',\n",
       " 'Australia',\n",
       " 'Spain, France, Italy',\n",
       " 'Canada, United States',\n",
       " 'Cyprus',\n",
       " 'Italy, France',\n",
       " 'East Germany, Germany, France, Spain, Czech Republic, Italy',\n",
       " 'Belarus',\n",
       " 'East Germany, Germany',\n",
       " 'Estonia',\n",
       " 'United States, Portuguese Angola',\n",
       " 'Switzerland, France, United States, Yugoslavia, Italy',\n",
       " 'West Germany, United States',\n",
       " 'Netherlands',\n",
       " 'SR Croatia',\n",
       " 'Panama',\n",
       " 'Singapore',\n",
       " 'Belize',\n",
       " 'SR Slovenia',\n",
       " 'Namibia',\n",
       " 'United Kingdom, Ireland, West Germany, Netherlands, France',\n",
       " 'Austria',\n",
       " 'Hong Kong',\n",
       " 'Israel',\n",
       " 'Allied-occupied Germany, West Germany',\n",
       " 'Republic of Macedonia',\n",
       " 'East Germany',\n",
       " 'SR Slovenia, Serbia and Montenegro, Slovenia',\n",
       " 'Portugal',\n",
       " 'Malaysia',\n",
       " 'United States, Austria, France, United Kingdom',\n",
       " 'Singapore, Malaysia',\n",
       " 'Kingdom of Yugoslavia',\n",
       " 'Iraq',\n",
       " 'Norway',\n",
       " 'Switzerland',\n",
       " 'Czech Republic',\n",
       " 'Imperial State of Iran',\n",
       " 'Finland',\n",
       " 'United States, Zimbabwe',\n",
       " 'Hungary',\n",
       " 'Belgium, France',\n",
       " 'Guatemala',\n",
       " 'Uzbekistan, Kazakhstan',\n",
       " 'Italy, West Germany, Netherlands']"
      ]
     },
     "execution_count": 18,
     "metadata": {},
     "output_type": "execute_result"
    }
   ],
   "source": [
    "# IDENTIFYING ALL UNIQUE VALUES TO HELP WITH DICTIONARY CREATION\n",
    "\n",
    "list(victims['Country'].unique())"
   ]
  },
  {
   "cell_type": "code",
   "execution_count": 21,
   "id": "8959a017",
   "metadata": {},
   "outputs": [],
   "source": [
    "# DICTIONARY CREATION CATEGORIZING COUNTRIES BY CONTINENT, INCLUDING MULTIPLE CONTINENTS\n",
    "\n",
    "country_to_continent = {\n",
    "    'Colombia, Ecuador, Venezuela': 'South America',\n",
    "    'Colombia, Peru, Ecuador': 'South America',\n",
    "    'Pakistan': 'Asia',\n",
    "    'Russia': 'Europe',\n",
    "    'Colombia, Ecuador, Brazil': 'South America',\n",
    "    'Brazil': 'South America',\n",
    "    'India': 'Asia',\n",
    "    'Iran': 'Asia',\n",
    "    'China': 'Asia',\n",
    "    'Afghanistan': 'Asia',\n",
    "    'United States': 'North America',\n",
    "    'Belgian Congo, Tanganyika': 'Multiple continents',\n",
    "    'Soviet Union': 'Multiple continents',\n",
    "    'Soviet Union, Ukraine': 'Multiple continents',\n",
    "    'Indonesia': 'Asia',\n",
    "    'South Africa': 'Africa',\n",
    "    'Morocco': 'Africa',\n",
    "    'Kingdom of Romania, Yugoslavia, Hungary': 'Europe',\n",
    "    'Mexico': 'North America',\n",
    "    'Ottoman Empire, Iraq, Iran': 'Multiple continents',\n",
    "    'Egypt': 'Africa',\n",
    "    'Germany': 'Europe',\n",
    "    'Colombia': 'South America',\n",
    "    'Zambia': 'Africa',\n",
    "    'Swaziland': 'Africa',\n",
    "    'Greece': 'Europe',\n",
    "    'Canada': 'North America',\n",
    "    'United Kingdom': 'Europe',\n",
    "    'Austria-Hungary': 'Multiple continents',\n",
    "    'France, Germany, Switzerland': 'Europe',\n",
    "    'Ecuador': 'South America',\n",
    "    'United States, Canada': 'North America',\n",
    "    'Soviet Union, Russia, Tajikistan': 'Multiple continents',\n",
    "    'Romania': 'Europe',\n",
    "    'South Korea': 'Asia',\n",
    "    'Costa Rica': 'North America',\n",
    "    'Soviet Union, Russia': 'Multiple continents',\n",
    "    'Latvia': 'Europe',\n",
    "    'Turkey': 'Asia',\n",
    "    'France': 'Europe',\n",
    "    'Sri Lanka': 'Asia',\n",
    "    'Peru': 'South America',\n",
    "    'Ukraine': 'Europe',\n",
    "    'Italy': 'Europe',\n",
    "    'France, Belgium': 'Europe',\n",
    "    'Spain': 'Europe',\n",
    "    'United States, Mexico': 'North America',\n",
    "    'Argentina': 'South America',\n",
    "    'Poland': 'Europe',\n",
    "    'Chile': 'South America',\n",
    "    'West Germany': 'Europe',\n",
    "    'Tunisia': 'Africa',\n",
    "    'Venezuela': 'South America',\n",
    "    'Rwanda': 'Africa',\n",
    "    'Thailand, Nepal, India, Malaysia': 'Asia',\n",
    "    'Yemen': 'Asia',\n",
    "    'Japan': 'Asia',\n",
    "    'Austria, United States, Czechoslovakia': 'Europe',\n",
    "    'Belgium': 'Europe',\n",
    "    'Bangladesh': 'Asia',\n",
    "    'Czechoslovakia': 'Europe',\n",
    "    'Soviet Union, Russia, Ukraine': 'Multiple continents',\n",
    "    'Kenya': 'Africa',\n",
    "    'German Empire, Germany': 'Europe',\n",
    "    'Denmark': 'Europe',\n",
    "    'Ecuador, Spain': 'South America',\n",
    "    'Czechoslovakia, Germany, Netherlands': 'Europe',\n",
    "    'Sweden': 'Europe',\n",
    "    'China, Japan': 'Asia',\n",
    "    'Australia': 'Oceania',\n",
    "    'Spain, France, Italy': 'Europe',\n",
    "    'Canada, United States': 'North America',\n",
    "    'Cyprus': 'Asia',\n",
    "    'Italy, France': 'Europe',\n",
    "    'East Germany, Germany, France, Spain, Czech Republic, Italy': 'Europe',\n",
    "    'Belarus': 'Europe',\n",
    "    'East Germany, Germany': 'Europe',\n",
    "    'Estonia': 'Europe',\n",
    "    'United States, Portuguese Angola': 'North America',\n",
    "    'Switzerland, France, United States, Yugoslavia, Italy': 'Europe',\n",
    "    'West Germany, United States': 'Europe',\n",
    "    'Netherlands': 'Europe',\n",
    "    'SR Croatia': 'Europe',\n",
    "    'Panama': 'North America',\n",
    "    'Singapore': 'Asia',\n",
    "    'Belize': 'North America',\n",
    "    'SR Slovenia': 'Europe',\n",
    "    'Namibia': 'Africa',\n",
    "    'United Kingdom, Ireland, West Germany, Netherlands, France': 'Europe',\n",
    "    'Austria': 'Europe',\n",
    "    'Hong Kong': 'Asia',\n",
    "    'Israel': 'Asia',\n",
    "    'Allied-occupied Germany, West Germany': 'Multiple continents',\n",
    "    'Republic of Macedonia': 'Europe',\n",
    "    'East Germany': 'Europe',\n",
    "    'SR Slovenia, Serbia and Montenegro, Slovenia': 'Europe',\n",
    "    'Portugal': 'Europe',\n",
    "    'Malaysia': 'Asia',\n",
    "    'United States, Austria, France, United Kingdom': 'North America',\n",
    "    'Singapore, Malaysia': 'Asia',\n",
    "    'Kingdom of Yugoslavia': 'Europe',\n",
    "    'Iraq': 'Asia',\n",
    "    'Norway': 'Europe',\n",
    "    'Switzerland': 'Europe',\n",
    "    'Czech Republic': 'Europe',\n",
    "    'Imperial State of Iran': 'Multiple continents',\n",
    "    'Finland': 'Europe',\n",
    "    'United States, Zimbabwe': 'North America',\n",
    "    'Hungary': 'Europe',\n",
    "    'Belgium, France': 'Europe',\n",
    "    'Guatemala': 'North America',\n",
    "    'Uzbekistan, Kazakhstan': 'Asia',\n",
    "    'Italy, West Germany, Netherlands': 'Europe'\n",
    "}"
   ]
  },
  {
   "cell_type": "code",
   "execution_count": 22,
   "id": "cec66b2a",
   "metadata": {},
   "outputs": [],
   "source": [
    "# APPLYING THE COLUMN CREATION TO ADD CONTINENT\n",
    "\n",
    "victims['Continent'] = victims['Country'].map(country_to_continent)"
   ]
  },
  {
   "cell_type": "code",
   "execution_count": null,
   "id": "83f96436",
   "metadata": {},
   "outputs": [
    {
     "data": {
      "text/plain": [
       "Continent\n",
       "North America          325\n",
       "Europe                 214\n",
       "Asia                    95\n",
       "Africa                  39\n",
       "South America           33\n",
       "Multiple continents     31\n",
       "Oceania                 20\n",
       "Name: count, dtype: int64"
      ]
     },
     "execution_count": 23,
     "metadata": {},
     "output_type": "execute_result"
    }
   ],
   "source": [
    "# CONFIRMING THE CHANGE AND COUNTING VALUES\n",
    "\n",
    "victims['Continent'].value_counts()"
   ]
  },
  {
   "cell_type": "code",
   "execution_count": 24,
   "id": "8149647d",
   "metadata": {},
   "outputs": [],
   "source": [
    "# FUNCTION TO CATEGORIZE COUNTRIES AS UNIQUE OR MULTIPLE COUNTRIES:\n",
    "\n",
    "def categorize_multiple_countries(country_series):\n",
    "    return country_series.apply(lambda x: \"Multiple Countries\" if ',' in x else x)"
   ]
  },
  {
   "cell_type": "code",
   "execution_count": null,
   "id": "cf262310",
   "metadata": {},
   "outputs": [],
   "source": [
    "# APPLYING THE CATEGORIES TO CREATE THE NEW COLUMN 'COUNTRY SORTED'\n",
    "\n",
    "victims['Country Sorted'] = categorize_multiple_countries(victims['Country'])"
   ]
  },
  {
   "cell_type": "code",
   "execution_count": null,
   "id": "81b26f54",
   "metadata": {},
   "outputs": [
    {
     "name": "stdout",
     "output_type": "stream",
     "text": [
      "<class 'pandas.core.frame.DataFrame'>\n",
      "RangeIndex: 757 entries, 0 to 756\n",
      "Data columns (total 10 columns):\n",
      " #   Column            Non-Null Count  Dtype  \n",
      "---  ------            --------------  -----  \n",
      " 0   Name              757 non-null    object \n",
      " 1   Country           757 non-null    object \n",
      " 2   Start year        738 non-null    float64\n",
      " 3   End year          740 non-null    float64\n",
      " 4   Proven victims    757 non-null    float64\n",
      " 5   Possible victims  757 non-null    float64\n",
      " 6   Notes             754 non-null    object \n",
      " 7   country sorted    757 non-null    object \n",
      " 8   Continent         757 non-null    object \n",
      " 9   Country Sorted    757 non-null    object \n",
      "dtypes: float64(4), object(6)\n",
      "memory usage: 59.3+ KB\n"
     ]
    }
   ],
   "source": [
    "# CONFIRM COLUMN CREATING, AND CHECKING NULLS AND DATA TYPE\n",
    "\n",
    "victims.info()"
   ]
  },
  {
   "cell_type": "code",
   "execution_count": null,
   "id": "f04d08d2",
   "metadata": {},
   "outputs": [],
   "source": [
    "# CONVERTING FLOATS TO INTEGER\n",
    "\n",
    "victims[['Start year', 'End year', 'Proven victims', 'Possible victims']] = victims[['Start year', 'End year', 'Proven victims', 'Possible victims']].astype('Int64')\n"
   ]
  },
  {
   "cell_type": "code",
   "execution_count": null,
   "id": "9036b676",
   "metadata": {},
   "outputs": [],
   "source": [
    "\n",
    "# \n",
    "victims['Start year'] = pd.to_numeric(victims['Start year'], errors='coerce')\n",
    "victims['End year'] = pd.to_numeric(victims['End year'], errors='coerce')\n",
    "\n",
    "\n",
    "victims['Years Active'] = victims['End year'] - victims['Start year']"
   ]
  },
  {
   "cell_type": "markdown",
   "id": "73b42f82",
   "metadata": {},
   "source": [
    "### CREATING TOP 15 KILLERS FILE"
   ]
  },
  {
   "cell_type": "code",
   "execution_count": 29,
   "id": "879329c1",
   "metadata": {},
   "outputs": [],
   "source": [
    "# SORTING THE TOP 15 BASED ON 'POSSIBLE VICTIMS' , THIS COLUMN HAS BEEN IDENTIFYIED AS A POSSIBLE TOTAL VICTIMS LATER\n",
    "\n",
    "top15 = victims.sort_values(by='Possible victims', ascending=False,).head(15).copy()"
   ]
  },
  {
   "cell_type": "code",
   "execution_count": 30,
   "id": "dc30978f",
   "metadata": {},
   "outputs": [],
   "source": [
    "# CREATION OF DICTIONARY INCLUDING URL WITH KILLER PHOTO TO INCLUDE AS A COLUMN LATER\n",
    "\n",
    "imagenes = {\n",
    "    'Murder Incorporated': 'https://www.legendsofamerica.com/wp-content/uploads/2017/08/Murderinc.jpg',\n",
    "    'The Skin Hunters': 'https://static.wikia.nocookie.net/skdb/images/2/2c/Andrzej_Nowocie%C5%84.jpg/revision/latest?cb=20230707162353',\n",
    "    'Charles Cullen': 'https://media-cldnry.s-nbcnews.com/image/upload/t_fit-1500w,f_auto,q_auto:best/msnbc/Components/Photos/060319/060319_cullen_vsml_8a.jpg',\n",
    "    'Amelia Sach and Annie Walters': 'https://pm1.aminoapps.com/6044/e102b3c5568cd78a3fb4e16d3d4d4f032f526a8b_00.jpg',\n",
    "    'Pedro López': 'https://s3.amazonaws.com/arc-wordpress-client-uploads/infobae-wp/wp-content/uploads/2018/11/14100939/Pedro-Alonso-Lopez-el-Monstruo-de-los-Andes-3.jpg',\n",
    "    'Angel Makers of Nagyrév': 'https://www.economist.com/cdn-cgi/image/width=1424,quality=80,format=auto/content-assets/images/20230318_CUP001.jpg',\n",
    "    'Niels Högel': 'https://www.lavanguardia.com/files/content_image_mobile_filter/uploads/2022/04/21/6261a4bb37515.jpeg',\n",
    "    'Abul Djabar': 'https://alpha-assets.tadevel-cdn.com/663d766925bc4c6ee7e00f81/720.webp',\n",
    "    'Frans Hooijmaijers': 'https://thumbor.pijper.io/5EwhMNHH-OViNv253yb-ej8DMuY=/728x0/https%3A%2F%2Fcdn.pijper.io%2F2024%2F11%2Fq6DZBqjmCkIjDH1731685697.png',\n",
    "    'Harold Shipman': 'https://m.media-amazon.com/images/S/pv-target-images/43d413170f9c3edaac3eceefaedc067b210f7cd44f5566140bceeb13ac977637.jpg',\n",
    "    'Luis Garavito': 'https://upload.wikimedia.org/wikipedia/commons/7/7b/Luis_Alfredo_Garavito_Cubillos.jpg',\n",
    "    'Kermit Gosnell': 'https://media.philly.com/images/20140213_dn_0n0wr3al.jpg',\n",
    "    'Daniel Camargo Barbosa': 'https://upload.wikimedia.org/wikipedia/commons/e/ef/Daniel_Camargo_Barbosa_1958_Mugshot.png',\n",
    "    'Mariam Soulakiotis': 'https://images.findagrave.com/photos/2024/251/245406222_a2b9c415-c479-410f-afd9-71f5b42a883a.jpeg',\n",
    "    'Richard Kuklinski': 'https://swashvillage.org/storage/img/images/richard-the-iceman-kuklinski-biography_2.jpg'\n",
    "}\n"
   ]
  },
  {
   "cell_type": "code",
   "execution_count": 31,
   "id": "c3d51ef0",
   "metadata": {},
   "outputs": [],
   "source": [
    "# CREATING COLUMN WITH PHOTO OF THE KILLERS\n",
    "\n",
    "top15['Image'] = top15['Name'].map(imagenes)"
   ]
  }
 ],
 "metadata": {
  "kernelspec": {
   "display_name": "base",
   "language": "python",
   "name": "python3"
  },
  "language_info": {
   "codemirror_mode": {
    "name": "ipython",
    "version": 3
   },
   "file_extension": ".py",
   "mimetype": "text/x-python",
   "name": "python",
   "nbconvert_exporter": "python",
   "pygments_lexer": "ipython3",
   "version": "3.12.7"
  }
 },
 "nbformat": 4,
 "nbformat_minor": 5
}
